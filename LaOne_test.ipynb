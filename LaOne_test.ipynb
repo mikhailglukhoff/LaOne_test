{
 "cells": [
  {
   "cell_type": "code",
   "id": "initial_id",
   "metadata": {
    "collapsed": true
   },
   "source": [
    "!git clone https://github.com/mikhailglukhoff/LaOne_test.git\n",
    "\n",
    "!pip install uv --break-system-packages\n",
    "\n",
    "!uv export --format requirements-txt --output-file requirements.txt\n",
    "\n",
    "!pip install -r requirements.txt --break-system-packages\n",
    "\n",
    "!python main.py"
   ],
   "outputs": [],
   "execution_count": null
  }
 ],
 "metadata": {
  "kernelspec": {
   "display_name": "Python 3",
   "language": "python",
   "name": "python3"
  },
  "language_info": {
   "codemirror_mode": {
    "name": "ipython",
    "version": 2
   },
   "file_extension": ".py",
   "mimetype": "text/x-python",
   "name": "python",
   "nbconvert_exporter": "python",
   "pygments_lexer": "ipython2",
   "version": "2.7.6"
  }
 },
 "nbformat": 4,
 "nbformat_minor": 5
}
