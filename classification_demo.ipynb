{
 "nbformat": 4,
 "nbformat_minor": 0,
 "metadata": {
  "colab": {
   "provenance": [],
   "authorship_tag": "ABX9TyOE1HXTe7qnBsu8htHxgPl0",
   "include_colab_link": true
  },
  "kernelspec": {
   "name": "python3",
   "display_name": "Python 3 (ipykernel)",
   "language": "python"
  },
  "language_info": {
   "name": "python"
  }
 },
 "cells": [
  {
   "cell_type": "markdown",
   "metadata": {
    "id": "view-in-github",
    "colab_type": "text"
   },
   "source": [
    "<a href=\"https://colab.research.google.com/github/mikhailglukhoff/LaOne_test/blob/dev/classification_demo.ipynb\" target=\"_parent\"><img src=\"https://colab.research.google.com/assets/colab-badge.svg\" alt=\"Open In Colab\"/></a>"
   ]
  },
  {
   "cell_type": "code",
   "metadata": {
    "id": "dQev_O3Ik2SM",
    "ExecuteTime": {
     "end_time": "2025-09-03T17:28:15.544723Z",
     "start_time": "2025-09-03T17:28:15.347357Z"
    }
   },
   "source": [
    "{\n",
    "    \"cells\"         : [\n",
    "        {\n",
    "            \"cell_type\": \"markdown\",\n",
    "            \"metadata\" : {},\n",
    "            \"source\"   : [\n",
    "                \"# Classification Demo\\n\",\n",
    "                \"\\n\",\n",
    "                \"Этот ноутбук демонстрирует работу пайплайна проекта:\\n\",\n",
    "                \"- загрузка данных,\\n\",\n",
    "                \"- подготовка признаков,\\n\",\n",
    "                \"- обучение модели CatBoost,\\n\",\n",
    "                \"- оценка качества.\"\n",
    "                ]\n",
    "            },\n",
    "        {\n",
    "            \"cell_type\"      : \"code\",\n",
    "            \"execution_count\": null,\n",
    "            \"metadata\"       : {},\n",
    "            \"outputs\"        : [],\n",
    "            \"source\"         : [\n",
    "                \"# Install dependencies (Colab environment)\\n\",\n",
    "                \"!pip install pandas polars catboost scikit-learn torch\"\n",
    "                ]\n",
    "            },\n",
    "        {\n",
    "            \"cell_type\"      : \"code\",\n",
    "            \"execution_count\": null,\n",
    "            \"metadata\"       : {},\n",
    "            \"outputs\"        : [],\n",
    "            \"source\"         : [\n",
    "                \"import sys\\n\",\n",
    "                \"from pathlib import Path\\n\",\n",
    "                \"\\n\",\n",
    "                \"# Add src/ to sys.path for imports\\n\",\n",
    "                \"project_root = Path.cwd()\\n\",\n",
    "                \"sys.path.append(str(project_root / \\\"src\\\"))\\n\",\n",
    "                \"\\n\",\n",
    "                \"print(\\\"Project root:\\\", project_root)\"\n",
    "                ]\n",
    "            },\n",
    "        {\n",
    "            \"cell_type\"      : \"code\",\n",
    "            \"execution_count\": null,\n",
    "            \"metadata\"       : {},\n",
    "            \"outputs\"        : [],\n",
    "            \"source\"         : [\n",
    "                \"# Imports from your project\\n\",\n",
    "                \"from data.load import load_data  # your loader\\n\",\n",
    "                \"from features.tabular import build_features  # feature engineering\\n\",\n",
    "                \"from models.train_models import train_catboost  # training\\n\",\n",
    "                \"\\n\",\n",
    "                \"import pandas as pd\"\n",
    "                ]\n",
    "            },\n",
    "        {\n",
    "            \"cell_type\"      : \"code\",\n",
    "            \"execution_count\": null,\n",
    "            \"metadata\"       : {},\n",
    "            \"outputs\"        : [],\n",
    "            \"source\"         : [\n",
    "                \"# Load dataset\\n\",\n",
    "                \"dataset_path = project_root / \\\"data/processed/dataset.parquet\\\"\\n\",\n",
    "                \"df = load_data(dataset_path)\\n\",\n",
    "                \"\\n\",\n",
    "                \"print(\\\"Dataset shape:\\\", df.shape)\\n\",\n",
    "                \"df.head()\"\n",
    "                ]\n",
    "            },\n",
    "        {\n",
    "            \"cell_type\"      : \"code\",\n",
    "            \"execution_count\": null,\n",
    "            \"metadata\"       : {},\n",
    "            \"outputs\"        : [],\n",
    "            \"source\"         : [\n",
    "                \"# Build features\\n\",\n",
    "                \"X, y = build_features(df)\\n\",\n",
    "                \"print(\\\"Feature matrix:\\\", X.shape, \\\"Target:\\\", y.shape)\"\n",
    "                ]\n",
    "            },\n",
    "        {\n",
    "            \"cell_type\"      : \"code\",\n",
    "            \"execution_count\": null,\n",
    "            \"metadata\"       : {},\n",
    "            \"outputs\"        : [],\n",
    "            \"source\"         : [\n",
    "                \"# Train CatBoost model\\n\",\n",
    "                \"model, metrics = train_catboost(X, y)\\n\",\n",
    "                \"print(\\\"Metrics:\\\", metrics)\"\n",
    "                ]\n",
    "            }\n",
    "        ],\n",
    "    \"metadata\"      : {\n",
    "        \"kernelspec\"   : {\n",
    "            \"display_name\": \"Python 3\",\n",
    "            \"language\"    : \"python\",\n",
    "            \"name\"        : \"python3\"\n",
    "            },\n",
    "        \"language_info\": {\n",
    "            \"name\"   : \"python\",\n",
    "            \"version\": \"3.10\"\n",
    "            }\n",
    "        },\n",
    "    \"nbformat\"      : 4,\n",
    "    \"nbformat_minor\": 2\n",
    "    }\n"
   ],
   "outputs": [
    {
     "ename": "NameError",
     "evalue": "name 'null' is not defined",
     "output_type": "error",
     "traceback": [
      "\u001B[31m---------------------------------------------------------------------------\u001B[39m",
      "\u001B[31mNameError\u001B[39m                                 Traceback (most recent call last)",
      "\u001B[36mCell\u001B[39m\u001B[36m \u001B[39m\u001B[32mIn[1]\u001B[39m\u001B[32m, line 18\u001B[39m\n\u001B[32m      1\u001B[39m {\n\u001B[32m      2\u001B[39m     \u001B[33m\"\u001B[39m\u001B[33mcells\u001B[39m\u001B[33m\"\u001B[39m         : [\n\u001B[32m      3\u001B[39m         {\n\u001B[32m      4\u001B[39m             \u001B[33m\"\u001B[39m\u001B[33mcell_type\u001B[39m\u001B[33m\"\u001B[39m: \u001B[33m\"\u001B[39m\u001B[33mmarkdown\u001B[39m\u001B[33m\"\u001B[39m,\n\u001B[32m      5\u001B[39m             \u001B[33m\"\u001B[39m\u001B[33mmetadata\u001B[39m\u001B[33m\"\u001B[39m : {},\n\u001B[32m      6\u001B[39m             \u001B[33m\"\u001B[39m\u001B[33msource\u001B[39m\u001B[33m\"\u001B[39m   : [\n\u001B[32m      7\u001B[39m                 \u001B[33m\"\u001B[39m\u001B[33m# Classification Demo\u001B[39m\u001B[38;5;130;01m\\n\u001B[39;00m\u001B[33m\"\u001B[39m,\n\u001B[32m      8\u001B[39m                 \u001B[33m\"\u001B[39m\u001B[38;5;130;01m\\n\u001B[39;00m\u001B[33m\"\u001B[39m,\n\u001B[32m      9\u001B[39m                 \u001B[33m\"\u001B[39m\u001B[33mЭтот ноутбук демонстрирует работу пайплайна проекта:\u001B[39m\u001B[38;5;130;01m\\n\u001B[39;00m\u001B[33m\"\u001B[39m,\n\u001B[32m     10\u001B[39m                 \u001B[33m\"\u001B[39m\u001B[33m- загрузка данных,\u001B[39m\u001B[38;5;130;01m\\n\u001B[39;00m\u001B[33m\"\u001B[39m,\n\u001B[32m     11\u001B[39m                 \u001B[33m\"\u001B[39m\u001B[33m- подготовка признаков,\u001B[39m\u001B[38;5;130;01m\\n\u001B[39;00m\u001B[33m\"\u001B[39m,\n\u001B[32m     12\u001B[39m                 \u001B[33m\"\u001B[39m\u001B[33m- обучение модели CatBoost,\u001B[39m\u001B[38;5;130;01m\\n\u001B[39;00m\u001B[33m\"\u001B[39m,\n\u001B[32m     13\u001B[39m                 \u001B[33m\"\u001B[39m\u001B[33m- оценка качества.\u001B[39m\u001B[33m\"\u001B[39m\n\u001B[32m     14\u001B[39m                 ]\n\u001B[32m     15\u001B[39m             },\n\u001B[32m     16\u001B[39m         {\n\u001B[32m     17\u001B[39m             \u001B[33m\"\u001B[39m\u001B[33mcell_type\u001B[39m\u001B[33m\"\u001B[39m      : \u001B[33m\"\u001B[39m\u001B[33mcode\u001B[39m\u001B[33m\"\u001B[39m,\n\u001B[32m---> \u001B[39m\u001B[32m18\u001B[39m             \u001B[33m\"\u001B[39m\u001B[33mexecution_count\u001B[39m\u001B[33m\"\u001B[39m: \u001B[43mnull\u001B[49m,\n\u001B[32m     19\u001B[39m             \u001B[33m\"\u001B[39m\u001B[33mmetadata\u001B[39m\u001B[33m\"\u001B[39m       : {},\n\u001B[32m     20\u001B[39m             \u001B[33m\"\u001B[39m\u001B[33moutputs\u001B[39m\u001B[33m\"\u001B[39m        : [],\n\u001B[32m     21\u001B[39m             \u001B[33m\"\u001B[39m\u001B[33msource\u001B[39m\u001B[33m\"\u001B[39m         : [\n\u001B[32m     22\u001B[39m                 \u001B[33m\"\u001B[39m\u001B[33m# Install dependencies (Colab environment)\u001B[39m\u001B[38;5;130;01m\\n\u001B[39;00m\u001B[33m\"\u001B[39m,\n\u001B[32m     23\u001B[39m                 \u001B[33m\"\u001B[39m\u001B[33m!pip install pandas polars catboost scikit-learn torch\u001B[39m\u001B[33m\"\u001B[39m\n\u001B[32m     24\u001B[39m                 ]\n\u001B[32m     25\u001B[39m             },\n\u001B[32m     26\u001B[39m         {\n\u001B[32m     27\u001B[39m             \u001B[33m\"\u001B[39m\u001B[33mcell_type\u001B[39m\u001B[33m\"\u001B[39m      : \u001B[33m\"\u001B[39m\u001B[33mcode\u001B[39m\u001B[33m\"\u001B[39m,\n\u001B[32m     28\u001B[39m             \u001B[33m\"\u001B[39m\u001B[33mexecution_count\u001B[39m\u001B[33m\"\u001B[39m: null,\n\u001B[32m     29\u001B[39m             \u001B[33m\"\u001B[39m\u001B[33mmetadata\u001B[39m\u001B[33m\"\u001B[39m       : {},\n\u001B[32m     30\u001B[39m             \u001B[33m\"\u001B[39m\u001B[33moutputs\u001B[39m\u001B[33m\"\u001B[39m        : [],\n\u001B[32m     31\u001B[39m             \u001B[33m\"\u001B[39m\u001B[33msource\u001B[39m\u001B[33m\"\u001B[39m         : [\n\u001B[32m     32\u001B[39m                 \u001B[33m\"\u001B[39m\u001B[33mimport sys\u001B[39m\u001B[38;5;130;01m\\n\u001B[39;00m\u001B[33m\"\u001B[39m,\n\u001B[32m     33\u001B[39m                 \u001B[33m\"\u001B[39m\u001B[33mfrom pathlib import Path\u001B[39m\u001B[38;5;130;01m\\n\u001B[39;00m\u001B[33m\"\u001B[39m,\n\u001B[32m     34\u001B[39m                 \u001B[33m\"\u001B[39m\u001B[38;5;130;01m\\n\u001B[39;00m\u001B[33m\"\u001B[39m,\n\u001B[32m     35\u001B[39m                 \u001B[33m\"\u001B[39m\u001B[33m# Add src/ to sys.path for imports\u001B[39m\u001B[38;5;130;01m\\n\u001B[39;00m\u001B[33m\"\u001B[39m,\n\u001B[32m     36\u001B[39m                 \u001B[33m\"\u001B[39m\u001B[33mproject_root = Path.cwd()\u001B[39m\u001B[38;5;130;01m\\n\u001B[39;00m\u001B[33m\"\u001B[39m,\n\u001B[32m     37\u001B[39m                 \u001B[33m\"\u001B[39m\u001B[33msys.path.append(str(project_root / \u001B[39m\u001B[38;5;130;01m\\\"\u001B[39;00m\u001B[33msrc\u001B[39m\u001B[38;5;130;01m\\\"\u001B[39;00m\u001B[33m))\u001B[39m\u001B[38;5;130;01m\\n\u001B[39;00m\u001B[33m\"\u001B[39m,\n\u001B[32m     38\u001B[39m                 \u001B[33m\"\u001B[39m\u001B[38;5;130;01m\\n\u001B[39;00m\u001B[33m\"\u001B[39m,\n\u001B[32m     39\u001B[39m                 \u001B[33m\"\u001B[39m\u001B[33mprint(\u001B[39m\u001B[38;5;130;01m\\\"\u001B[39;00m\u001B[33mProject root:\u001B[39m\u001B[38;5;130;01m\\\"\u001B[39;00m\u001B[33m, project_root)\u001B[39m\u001B[33m\"\u001B[39m\n\u001B[32m     40\u001B[39m                 ]\n\u001B[32m     41\u001B[39m             },\n\u001B[32m     42\u001B[39m         {\n\u001B[32m     43\u001B[39m             \u001B[33m\"\u001B[39m\u001B[33mcell_type\u001B[39m\u001B[33m\"\u001B[39m      : \u001B[33m\"\u001B[39m\u001B[33mcode\u001B[39m\u001B[33m\"\u001B[39m,\n\u001B[32m     44\u001B[39m             \u001B[33m\"\u001B[39m\u001B[33mexecution_count\u001B[39m\u001B[33m\"\u001B[39m: null,\n\u001B[32m     45\u001B[39m             \u001B[33m\"\u001B[39m\u001B[33mmetadata\u001B[39m\u001B[33m\"\u001B[39m       : {},\n\u001B[32m     46\u001B[39m             \u001B[33m\"\u001B[39m\u001B[33moutputs\u001B[39m\u001B[33m\"\u001B[39m        : [],\n\u001B[32m     47\u001B[39m             \u001B[33m\"\u001B[39m\u001B[33msource\u001B[39m\u001B[33m\"\u001B[39m         : [\n\u001B[32m     48\u001B[39m                 \u001B[33m\"\u001B[39m\u001B[33m# Imports from your project\u001B[39m\u001B[38;5;130;01m\\n\u001B[39;00m\u001B[33m\"\u001B[39m,\n\u001B[32m     49\u001B[39m                 \u001B[33m\"\u001B[39m\u001B[33mfrom data.load import load_data  # your loader\u001B[39m\u001B[38;5;130;01m\\n\u001B[39;00m\u001B[33m\"\u001B[39m,\n\u001B[32m     50\u001B[39m                 \u001B[33m\"\u001B[39m\u001B[33mfrom features.tabular import build_features  # feature engineering\u001B[39m\u001B[38;5;130;01m\\n\u001B[39;00m\u001B[33m\"\u001B[39m,\n\u001B[32m     51\u001B[39m                 \u001B[33m\"\u001B[39m\u001B[33mfrom models.train_models import train_catboost  # training\u001B[39m\u001B[38;5;130;01m\\n\u001B[39;00m\u001B[33m\"\u001B[39m,\n\u001B[32m     52\u001B[39m                 \u001B[33m\"\u001B[39m\u001B[38;5;130;01m\\n\u001B[39;00m\u001B[33m\"\u001B[39m,\n\u001B[32m     53\u001B[39m                 \u001B[33m\"\u001B[39m\u001B[33mimport pandas as pd\u001B[39m\u001B[33m\"\u001B[39m\n\u001B[32m     54\u001B[39m                 ]\n\u001B[32m     55\u001B[39m             },\n\u001B[32m     56\u001B[39m         {\n\u001B[32m     57\u001B[39m             \u001B[33m\"\u001B[39m\u001B[33mcell_type\u001B[39m\u001B[33m\"\u001B[39m      : \u001B[33m\"\u001B[39m\u001B[33mcode\u001B[39m\u001B[33m\"\u001B[39m,\n\u001B[32m     58\u001B[39m             \u001B[33m\"\u001B[39m\u001B[33mexecution_count\u001B[39m\u001B[33m\"\u001B[39m: null,\n\u001B[32m     59\u001B[39m             \u001B[33m\"\u001B[39m\u001B[33mmetadata\u001B[39m\u001B[33m\"\u001B[39m       : {},\n\u001B[32m     60\u001B[39m             \u001B[33m\"\u001B[39m\u001B[33moutputs\u001B[39m\u001B[33m\"\u001B[39m        : [],\n\u001B[32m     61\u001B[39m             \u001B[33m\"\u001B[39m\u001B[33msource\u001B[39m\u001B[33m\"\u001B[39m         : [\n\u001B[32m     62\u001B[39m                 \u001B[33m\"\u001B[39m\u001B[33m# Load dataset\u001B[39m\u001B[38;5;130;01m\\n\u001B[39;00m\u001B[33m\"\u001B[39m,\n\u001B[32m     63\u001B[39m                 \u001B[33m\"\u001B[39m\u001B[33mdataset_path = project_root / \u001B[39m\u001B[38;5;130;01m\\\"\u001B[39;00m\u001B[33mdata/processed/dataset.parquet\u001B[39m\u001B[38;5;130;01m\\\"\u001B[39;00m\u001B[38;5;130;01m\\n\u001B[39;00m\u001B[33m\"\u001B[39m,\n\u001B[32m     64\u001B[39m                 \u001B[33m\"\u001B[39m\u001B[33mdf = load_data(dataset_path)\u001B[39m\u001B[38;5;130;01m\\n\u001B[39;00m\u001B[33m\"\u001B[39m,\n\u001B[32m     65\u001B[39m                 \u001B[33m\"\u001B[39m\u001B[38;5;130;01m\\n\u001B[39;00m\u001B[33m\"\u001B[39m,\n\u001B[32m     66\u001B[39m                 \u001B[33m\"\u001B[39m\u001B[33mprint(\u001B[39m\u001B[38;5;130;01m\\\"\u001B[39;00m\u001B[33mDataset shape:\u001B[39m\u001B[38;5;130;01m\\\"\u001B[39;00m\u001B[33m, df.shape)\u001B[39m\u001B[38;5;130;01m\\n\u001B[39;00m\u001B[33m\"\u001B[39m,\n\u001B[32m     67\u001B[39m                 \u001B[33m\"\u001B[39m\u001B[33mdf.head()\u001B[39m\u001B[33m\"\u001B[39m\n\u001B[32m     68\u001B[39m                 ]\n\u001B[32m     69\u001B[39m             },\n\u001B[32m     70\u001B[39m         {\n\u001B[32m     71\u001B[39m             \u001B[33m\"\u001B[39m\u001B[33mcell_type\u001B[39m\u001B[33m\"\u001B[39m      : \u001B[33m\"\u001B[39m\u001B[33mcode\u001B[39m\u001B[33m\"\u001B[39m,\n\u001B[32m     72\u001B[39m             \u001B[33m\"\u001B[39m\u001B[33mexecution_count\u001B[39m\u001B[33m\"\u001B[39m: null,\n\u001B[32m     73\u001B[39m             \u001B[33m\"\u001B[39m\u001B[33mmetadata\u001B[39m\u001B[33m\"\u001B[39m       : {},\n\u001B[32m     74\u001B[39m             \u001B[33m\"\u001B[39m\u001B[33moutputs\u001B[39m\u001B[33m\"\u001B[39m        : [],\n\u001B[32m     75\u001B[39m             \u001B[33m\"\u001B[39m\u001B[33msource\u001B[39m\u001B[33m\"\u001B[39m         : [\n\u001B[32m     76\u001B[39m                 \u001B[33m\"\u001B[39m\u001B[33m# Build features\u001B[39m\u001B[38;5;130;01m\\n\u001B[39;00m\u001B[33m\"\u001B[39m,\n\u001B[32m     77\u001B[39m                 \u001B[33m\"\u001B[39m\u001B[33mX, y = build_features(df)\u001B[39m\u001B[38;5;130;01m\\n\u001B[39;00m\u001B[33m\"\u001B[39m,\n\u001B[32m     78\u001B[39m                 \u001B[33m\"\u001B[39m\u001B[33mprint(\u001B[39m\u001B[38;5;130;01m\\\"\u001B[39;00m\u001B[33mFeature matrix:\u001B[39m\u001B[38;5;130;01m\\\"\u001B[39;00m\u001B[33m, X.shape, \u001B[39m\u001B[38;5;130;01m\\\"\u001B[39;00m\u001B[33mTarget:\u001B[39m\u001B[38;5;130;01m\\\"\u001B[39;00m\u001B[33m, y.shape)\u001B[39m\u001B[33m\"\u001B[39m\n\u001B[32m     79\u001B[39m                 ]\n\u001B[32m     80\u001B[39m             },\n\u001B[32m     81\u001B[39m         {\n\u001B[32m     82\u001B[39m             \u001B[33m\"\u001B[39m\u001B[33mcell_type\u001B[39m\u001B[33m\"\u001B[39m      : \u001B[33m\"\u001B[39m\u001B[33mcode\u001B[39m\u001B[33m\"\u001B[39m,\n\u001B[32m     83\u001B[39m             \u001B[33m\"\u001B[39m\u001B[33mexecution_count\u001B[39m\u001B[33m\"\u001B[39m: null,\n\u001B[32m     84\u001B[39m             \u001B[33m\"\u001B[39m\u001B[33mmetadata\u001B[39m\u001B[33m\"\u001B[39m       : {},\n\u001B[32m     85\u001B[39m             \u001B[33m\"\u001B[39m\u001B[33moutputs\u001B[39m\u001B[33m\"\u001B[39m        : [],\n\u001B[32m     86\u001B[39m             \u001B[33m\"\u001B[39m\u001B[33msource\u001B[39m\u001B[33m\"\u001B[39m         : [\n\u001B[32m     87\u001B[39m                 \u001B[33m\"\u001B[39m\u001B[33m# Train CatBoost model\u001B[39m\u001B[38;5;130;01m\\n\u001B[39;00m\u001B[33m\"\u001B[39m,\n\u001B[32m     88\u001B[39m                 \u001B[33m\"\u001B[39m\u001B[33mmodel, metrics = train_catboost(X, y)\u001B[39m\u001B[38;5;130;01m\\n\u001B[39;00m\u001B[33m\"\u001B[39m,\n\u001B[32m     89\u001B[39m                 \u001B[33m\"\u001B[39m\u001B[33mprint(\u001B[39m\u001B[38;5;130;01m\\\"\u001B[39;00m\u001B[33mMetrics:\u001B[39m\u001B[38;5;130;01m\\\"\u001B[39;00m\u001B[33m, metrics)\u001B[39m\u001B[33m\"\u001B[39m\n\u001B[32m     90\u001B[39m                 ]\n\u001B[32m     91\u001B[39m             }\n\u001B[32m     92\u001B[39m         ],\n\u001B[32m     93\u001B[39m     \u001B[33m\"\u001B[39m\u001B[33mmetadata\u001B[39m\u001B[33m\"\u001B[39m      : {\n\u001B[32m     94\u001B[39m         \u001B[33m\"\u001B[39m\u001B[33mkernelspec\u001B[39m\u001B[33m\"\u001B[39m   : {\n\u001B[32m     95\u001B[39m             \u001B[33m\"\u001B[39m\u001B[33mdisplay_name\u001B[39m\u001B[33m\"\u001B[39m: \u001B[33m\"\u001B[39m\u001B[33mPython 3\u001B[39m\u001B[33m\"\u001B[39m,\n\u001B[32m     96\u001B[39m             \u001B[33m\"\u001B[39m\u001B[33mlanguage\u001B[39m\u001B[33m\"\u001B[39m    : \u001B[33m\"\u001B[39m\u001B[33mpython\u001B[39m\u001B[33m\"\u001B[39m,\n\u001B[32m     97\u001B[39m             \u001B[33m\"\u001B[39m\u001B[33mname\u001B[39m\u001B[33m\"\u001B[39m        : \u001B[33m\"\u001B[39m\u001B[33mpython3\u001B[39m\u001B[33m\"\u001B[39m\n\u001B[32m     98\u001B[39m             },\n\u001B[32m     99\u001B[39m         \u001B[33m\"\u001B[39m\u001B[33mlanguage_info\u001B[39m\u001B[33m\"\u001B[39m: {\n\u001B[32m    100\u001B[39m             \u001B[33m\"\u001B[39m\u001B[33mname\u001B[39m\u001B[33m\"\u001B[39m   : \u001B[33m\"\u001B[39m\u001B[33mpython\u001B[39m\u001B[33m\"\u001B[39m,\n\u001B[32m    101\u001B[39m             \u001B[33m\"\u001B[39m\u001B[33mversion\u001B[39m\u001B[33m\"\u001B[39m: \u001B[33m\"\u001B[39m\u001B[33m3.10\u001B[39m\u001B[33m\"\u001B[39m\n\u001B[32m    102\u001B[39m             }\n\u001B[32m    103\u001B[39m         },\n\u001B[32m    104\u001B[39m     \u001B[33m\"\u001B[39m\u001B[33mnbformat\u001B[39m\u001B[33m\"\u001B[39m      : \u001B[32m4\u001B[39m,\n\u001B[32m    105\u001B[39m     \u001B[33m\"\u001B[39m\u001B[33mnbformat_minor\u001B[39m\u001B[33m\"\u001B[39m: \u001B[32m2\u001B[39m\n\u001B[32m    106\u001B[39m     }\n",
      "\u001B[31mNameError\u001B[39m: name 'null' is not defined"
     ]
    }
   ],
   "execution_count": 1
  }
 ]
}
